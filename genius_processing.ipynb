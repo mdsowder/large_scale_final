{
 "cells": [
  {
   "cell_type": "markdown",
   "metadata": {},
   "source": [
    "# Install Requests"
   ]
  },
  {
   "cell_type": "code",
   "execution_count": null,
   "metadata": {},
   "outputs": [],
   "source": [
    "%%bash\n",
    "pip install requests"
   ]
  },
  {
   "cell_type": "markdown",
   "metadata": {},
   "source": [
    "# SANITY CHECK - Search for a song"
   ]
  },
  {
   "cell_type": "code",
   "execution_count": 1,
   "metadata": {},
   "outputs": [
    {
     "name": "stdout",
     "output_type": "stream",
     "text": [
      "Title: Welcome to New York by Taylor Swift\n",
      "Genius URL: https://genius.com/Taylor-swift-welcome-to-new-york-lyrics\n",
      "\n",
      "Title: ​portorosso’s DISCONTINUED 2023 Listening Log by still-life starlet\n",
      "Genius URL: https://genius.com/Still-life-starlet-portorossos-discontinued-2023-listening-log-annotated\n",
      "\n",
      "Title: ​youth group - background music by Josiah Botting\n",
      "Genius URL: https://genius.com/Josiah-botting-youth-group-background-music-annotated\n",
      "\n"
     ]
    }
   ],
   "source": [
    "import requests\n",
    "\n",
    "# Token from Genius API\n",
    "access_token = \"ULcds9ErDkTAQR14A6TzBFdaTfP-TGTZKtqGp1Bzk0Bam7IoftmGEysS_xm3sXYF\"\n",
    "\n",
    "headers = {\n",
    "    \"Authorization\": f\"Bearer {access_token}\"\n",
    "}\n",
    "\n",
    "def search_song(query):\n",
    "    base_url = \"https://api.genius.com\"\n",
    "    search_url = f\"{base_url}/search\"\n",
    "    params = {\"q\": query}\n",
    "    response = requests.get(search_url, params=params, headers=headers)\n",
    "    return response.json()\n",
    "\n",
    "# Search for a song\n",
    "results = search_song(\"Welcome to New York Taylor Swift\")\n",
    "\n",
    "# Print first few results\n",
    "for hit in results[\"response\"][\"hits\"][:3]:\n",
    "    print(\"Title:\", hit[\"result\"][\"full_title\"])\n",
    "    print(\"Genius URL:\", hit[\"result\"][\"url\"])\n",
    "    print()"
   ]
  },
  {
   "cell_type": "markdown",
   "metadata": {},
   "source": [
    "# Set up Lambda Function Connection"
   ]
  },
  {
   "cell_type": "code",
   "execution_count": 3,
   "metadata": {},
   "outputs": [],
   "source": [
    "import boto3\n",
    "import json\n",
    "\n",
    "# SQS setup\n",
    "sqs = boto3.client('sqs')\n",
    "queue_name = 'genius-queue'"
   ]
  },
  {
   "cell_type": "code",
   "execution_count": 4,
   "metadata": {},
   "outputs": [
    {
     "name": "stdout",
     "output_type": "stream",
     "text": [
      "SQS queue created: https://sqs.us-east-1.amazonaws.com/654654514107/genius-queue\n"
     ]
    }
   ],
   "source": [
    "# create queue\n",
    "try:\n",
    "    response = sqs.create_queue(\n",
    "        QueueName=queue_name,\n",
    "        Attributes={\n",
    "            'VisibilityTimeout': '60'\n",
    "        }\n",
    "    )\n",
    "    queue_url = response['QueueUrl']\n",
    "    print(f\"SQS queue created: {queue_url}\")\n",
    "except sqs.exceptions.QueueNameExists:\n",
    "    queue_url = [url for url in sqs.list_queues()['QueueUrls'] if queue_name in url][0]\n",
    "    print(f\"SQS queue already exists: {queue_url}\")"
   ]
  },
  {
   "cell_type": "code",
   "execution_count": 6,
   "metadata": {},
   "outputs": [],
   "source": [
    "# deploy and connect lambda function\n",
    "lambda_client = boto3.client('lambda')\n",
    "iam = boto3.client('iam')\n",
    "sqs = boto3.client('sqs')\n",
    "\n",
    "function_name = 'genius_lambda'\n",
    "zip_path = 'genius_lambda.py.zip'\n",
    "sqs_queue_url = queue_url\n",
    "role = iam.get_role(RoleName='LabRole')['Role']['Arn']\n",
    "\n",
    "with open(zip_path, 'rb') as f:\n",
    "    zipped_code = f.read()"
   ]
  },
  {
   "cell_type": "code",
   "execution_count": 7,
   "metadata": {},
   "outputs": [
    {
     "name": "stdout",
     "output_type": "stream",
     "text": [
      "lambda function created!\n"
     ]
    }
   ],
   "source": [
    "# create lambda function\n",
    "try:\n",
    "    response = lambda_client.create_function(\n",
    "        FunctionName=function_name,\n",
    "        Runtime='python3.9',\n",
    "        Role=role,\n",
    "        Handler='lambda_function.lambda_handler',\n",
    "        Code={'ZipFile': zipped_code},\n",
    "        Timeout=10\n",
    "    )\n",
    "    print(\"lambda function created!\")\n",
    "except lambda_client.exceptions.ResourceConflictException:\n",
    "    print(\"lambda function already exists\")\n",
    "    response = lambda_client.update_function_code(\n",
    "        FunctionName=function_name,\n",
    "        ZipFile=zipped_code\n",
    "    )"
   ]
  },
  {
   "cell_type": "code",
   "execution_count": 8,
   "metadata": {},
   "outputs": [],
   "source": [
    "# get ARN for trigger\n",
    "sqs_attrs = sqs.get_queue_attributes(\n",
    "    QueueUrl=sqs_queue_url,\n",
    "    AttributeNames=['QueueArn']\n",
    ")\n",
    "sqs_arn = sqs_attrs['Attributes']['QueueArn']"
   ]
  },
  {
   "cell_type": "code",
   "execution_count": 9,
   "metadata": {},
   "outputs": [
    {
     "name": "stdout",
     "output_type": "stream",
     "text": [
      "trigger creation successful\n"
     ]
    }
   ],
   "source": [
    "# create SQS trigger\n",
    "try:\n",
    "    lambda_client.create_event_source_mapping(\n",
    "        EventSourceArn=sqs_arn,\n",
    "        FunctionName=function_name,\n",
    "        Enabled=True,\n",
    "        BatchSize=10\n",
    "    )\n",
    "    print(\"trigger creation successful\")\n",
    "except lambda_client.exceptions.ResourceConflictException:\n",
    "    print(\"trigger already exists\")"
   ]
  },
  {
   "cell_type": "markdown",
   "metadata": {},
   "source": [
    "2. Use Dask to clean and match data"
   ]
  },
  {
   "cell_type": "code",
   "execution_count": 2,
   "metadata": {},
   "outputs": [
    {
     "ename": "TypeError",
     "evalue": "An error occurred while calling the read_json method registered to the pandas backend.\nOriginal Message: An error occurred while calling the read_json method registered to the pandas backend.\nOriginal Message: ClientArgsCreator.compute_endpoint_resolver_builtin_defaults() missing 2 required positional arguments: 'credentials' and 'account_id_endpoint_mode'",
     "output_type": "error",
     "traceback": [
      "\u001b[0;31m---------------------------------------------------------------------------\u001b[0m",
      "\u001b[0;31mTypeError\u001b[0m                                 Traceback (most recent call last)",
      "File \u001b[0;32m/opt/anaconda3/lib/python3.12/site-packages/dask/backends.py:140\u001b[0m, in \u001b[0;36mCreationDispatch.register_inplace.<locals>.decorator.<locals>.wrapper\u001b[0;34m(*args, **kwargs)\u001b[0m\n\u001b[1;32m    139\u001b[0m \u001b[38;5;28;01mtry\u001b[39;00m:\n\u001b[0;32m--> 140\u001b[0m     \u001b[38;5;28;01mreturn\u001b[39;00m func(\u001b[38;5;241m*\u001b[39margs, \u001b[38;5;241m*\u001b[39m\u001b[38;5;241m*\u001b[39mkwargs)\n\u001b[1;32m    141\u001b[0m \u001b[38;5;28;01mexcept\u001b[39;00m \u001b[38;5;167;01mException\u001b[39;00m \u001b[38;5;28;01mas\u001b[39;00m e:\n",
      "File \u001b[0;32m/opt/anaconda3/lib/python3.12/site-packages/dask/dataframe/io/json.py:279\u001b[0m, in \u001b[0;36mread_json\u001b[0;34m(url_path, orient, lines, storage_options, blocksize, sample, encoding, errors, compression, meta, engine, include_path_column, path_converter, **kwargs)\u001b[0m\n\u001b[1;32m    278\u001b[0m \u001b[38;5;28;01melse\u001b[39;00m:\n\u001b[0;32m--> 279\u001b[0m     files \u001b[38;5;241m=\u001b[39m open_files(\n\u001b[1;32m    280\u001b[0m         url_path,\n\u001b[1;32m    281\u001b[0m         \u001b[38;5;124m\"\u001b[39m\u001b[38;5;124mrt\u001b[39m\u001b[38;5;124m\"\u001b[39m,\n\u001b[1;32m    282\u001b[0m         encoding\u001b[38;5;241m=\u001b[39mencoding,\n\u001b[1;32m    283\u001b[0m         errors\u001b[38;5;241m=\u001b[39merrors,\n\u001b[1;32m    284\u001b[0m         compression\u001b[38;5;241m=\u001b[39mcompression,\n\u001b[1;32m    285\u001b[0m         \u001b[38;5;241m*\u001b[39m\u001b[38;5;241m*\u001b[39mstorage_options,\n\u001b[1;32m    286\u001b[0m     )\n\u001b[1;32m    287\u001b[0m     path_dtype \u001b[38;5;241m=\u001b[39m pd\u001b[38;5;241m.\u001b[39mCategoricalDtype(path_converter(f\u001b[38;5;241m.\u001b[39mpath) \u001b[38;5;28;01mfor\u001b[39;00m f \u001b[38;5;129;01min\u001b[39;00m files)\n",
      "File \u001b[0;32m/opt/anaconda3/lib/python3.12/site-packages/fsspec/core.py:283\u001b[0m, in \u001b[0;36mopen_files\u001b[0;34m(urlpath, mode, compression, encoding, errors, name_function, num, protocol, newline, auto_mkdir, expand, **kwargs)\u001b[0m\n\u001b[1;32m    218\u001b[0m \u001b[38;5;250m\u001b[39m\u001b[38;5;124;03m\"\"\"Given a path or paths, return a list of ``OpenFile`` objects.\u001b[39;00m\n\u001b[1;32m    219\u001b[0m \n\u001b[1;32m    220\u001b[0m \u001b[38;5;124;03mFor writing, a str path must contain the \"*\" character, which will be filled\u001b[39;00m\n\u001b[0;32m   (...)\u001b[0m\n\u001b[1;32m    281\u001b[0m \u001b[38;5;124;03m  https://filesystem-spec.readthedocs.io/en/latest/api.html#other-known-implementations\u001b[39;00m\n\u001b[1;32m    282\u001b[0m \u001b[38;5;124;03m\"\"\"\u001b[39;00m\n\u001b[0;32m--> 283\u001b[0m fs, fs_token, paths \u001b[38;5;241m=\u001b[39m get_fs_token_paths(\n\u001b[1;32m    284\u001b[0m     urlpath,\n\u001b[1;32m    285\u001b[0m     mode,\n\u001b[1;32m    286\u001b[0m     num\u001b[38;5;241m=\u001b[39mnum,\n\u001b[1;32m    287\u001b[0m     name_function\u001b[38;5;241m=\u001b[39mname_function,\n\u001b[1;32m    288\u001b[0m     storage_options\u001b[38;5;241m=\u001b[39mkwargs,\n\u001b[1;32m    289\u001b[0m     protocol\u001b[38;5;241m=\u001b[39mprotocol,\n\u001b[1;32m    290\u001b[0m     expand\u001b[38;5;241m=\u001b[39mexpand,\n\u001b[1;32m    291\u001b[0m )\n\u001b[1;32m    292\u001b[0m \u001b[38;5;28;01mif\u001b[39;00m fs\u001b[38;5;241m.\u001b[39mprotocol \u001b[38;5;241m==\u001b[39m \u001b[38;5;124m\"\u001b[39m\u001b[38;5;124mfile\u001b[39m\u001b[38;5;124m\"\u001b[39m:\n",
      "File \u001b[0;32m/opt/anaconda3/lib/python3.12/site-packages/fsspec/core.py:657\u001b[0m, in \u001b[0;36mget_fs_token_paths\u001b[0;34m(urlpath, mode, num, name_function, storage_options, protocol, expand)\u001b[0m\n\u001b[1;32m    656\u001b[0m \u001b[38;5;28;01melif\u001b[39;00m \u001b[38;5;124m\"\u001b[39m\u001b[38;5;124m*\u001b[39m\u001b[38;5;124m\"\u001b[39m \u001b[38;5;129;01min\u001b[39;00m paths:\n\u001b[0;32m--> 657\u001b[0m     paths \u001b[38;5;241m=\u001b[39m [f \u001b[38;5;28;01mfor\u001b[39;00m f \u001b[38;5;129;01min\u001b[39;00m \u001b[38;5;28msorted\u001b[39m(fs\u001b[38;5;241m.\u001b[39mglob(paths)) \u001b[38;5;28;01mif\u001b[39;00m \u001b[38;5;129;01mnot\u001b[39;00m fs\u001b[38;5;241m.\u001b[39misdir(f)]\n\u001b[1;32m    658\u001b[0m \u001b[38;5;28;01melse\u001b[39;00m:\n",
      "File \u001b[0;32m/opt/anaconda3/lib/python3.12/site-packages/fsspec/asyn.py:118\u001b[0m, in \u001b[0;36msync_wrapper.<locals>.wrapper\u001b[0;34m(*args, **kwargs)\u001b[0m\n\u001b[1;32m    117\u001b[0m \u001b[38;5;28mself\u001b[39m \u001b[38;5;241m=\u001b[39m obj \u001b[38;5;129;01mor\u001b[39;00m args[\u001b[38;5;241m0\u001b[39m]\n\u001b[0;32m--> 118\u001b[0m \u001b[38;5;28;01mreturn\u001b[39;00m sync(\u001b[38;5;28mself\u001b[39m\u001b[38;5;241m.\u001b[39mloop, func, \u001b[38;5;241m*\u001b[39margs, \u001b[38;5;241m*\u001b[39m\u001b[38;5;241m*\u001b[39mkwargs)\n",
      "File \u001b[0;32m/opt/anaconda3/lib/python3.12/site-packages/fsspec/asyn.py:103\u001b[0m, in \u001b[0;36msync\u001b[0;34m(loop, func, timeout, *args, **kwargs)\u001b[0m\n\u001b[1;32m    102\u001b[0m \u001b[38;5;28;01melif\u001b[39;00m \u001b[38;5;28misinstance\u001b[39m(return_result, \u001b[38;5;167;01mBaseException\u001b[39;00m):\n\u001b[0;32m--> 103\u001b[0m     \u001b[38;5;28;01mraise\u001b[39;00m return_result\n\u001b[1;32m    104\u001b[0m \u001b[38;5;28;01melse\u001b[39;00m:\n",
      "File \u001b[0;32m/opt/anaconda3/lib/python3.12/site-packages/fsspec/asyn.py:56\u001b[0m, in \u001b[0;36m_runner\u001b[0;34m(event, coro, result, timeout)\u001b[0m\n\u001b[1;32m     55\u001b[0m \u001b[38;5;28;01mtry\u001b[39;00m:\n\u001b[0;32m---> 56\u001b[0m     result[\u001b[38;5;241m0\u001b[39m] \u001b[38;5;241m=\u001b[39m \u001b[38;5;28;01mawait\u001b[39;00m coro\n\u001b[1;32m     57\u001b[0m \u001b[38;5;28;01mexcept\u001b[39;00m \u001b[38;5;167;01mException\u001b[39;00m \u001b[38;5;28;01mas\u001b[39;00m ex:\n",
      "File \u001b[0;32m/opt/anaconda3/lib/python3.12/site-packages/s3fs/core.py:799\u001b[0m, in \u001b[0;36mS3FileSystem._glob\u001b[0;34m(self, path, **kwargs)\u001b[0m\n\u001b[1;32m    798\u001b[0m     \u001b[38;5;28;01mraise\u001b[39;00m \u001b[38;5;167;01mValueError\u001b[39;00m(\u001b[38;5;124m\"\u001b[39m\u001b[38;5;124mCannot traverse all of S3\u001b[39m\u001b[38;5;124m\"\u001b[39m)\n\u001b[0;32m--> 799\u001b[0m \u001b[38;5;28;01mreturn\u001b[39;00m \u001b[38;5;28;01mawait\u001b[39;00m \u001b[38;5;28msuper\u001b[39m()\u001b[38;5;241m.\u001b[39m_glob(path, \u001b[38;5;241m*\u001b[39m\u001b[38;5;241m*\u001b[39mkwargs)\n",
      "File \u001b[0;32m/opt/anaconda3/lib/python3.12/site-packages/fsspec/asyn.py:804\u001b[0m, in \u001b[0;36mAsyncFileSystem._glob\u001b[0;34m(self, path, maxdepth, **kwargs)\u001b[0m\n\u001b[1;32m    802\u001b[0m         depth \u001b[38;5;241m=\u001b[39m \u001b[38;5;28;01mNone\u001b[39;00m\n\u001b[0;32m--> 804\u001b[0m allpaths \u001b[38;5;241m=\u001b[39m \u001b[38;5;28;01mawait\u001b[39;00m \u001b[38;5;28mself\u001b[39m\u001b[38;5;241m.\u001b[39m_find(\n\u001b[1;32m    805\u001b[0m     root, maxdepth\u001b[38;5;241m=\u001b[39mdepth, withdirs\u001b[38;5;241m=\u001b[39m\u001b[38;5;28;01mTrue\u001b[39;00m, detail\u001b[38;5;241m=\u001b[39m\u001b[38;5;28;01mTrue\u001b[39;00m, \u001b[38;5;241m*\u001b[39m\u001b[38;5;241m*\u001b[39mkwargs\n\u001b[1;32m    806\u001b[0m )\n\u001b[1;32m    808\u001b[0m pattern \u001b[38;5;241m=\u001b[39m glob_translate(path \u001b[38;5;241m+\u001b[39m (\u001b[38;5;124m\"\u001b[39m\u001b[38;5;124m/\u001b[39m\u001b[38;5;124m\"\u001b[39m \u001b[38;5;28;01mif\u001b[39;00m ends_with_sep \u001b[38;5;28;01melse\u001b[39;00m \u001b[38;5;124m\"\u001b[39m\u001b[38;5;124m\"\u001b[39m))\n",
      "File \u001b[0;32m/opt/anaconda3/lib/python3.12/site-packages/s3fs/core.py:829\u001b[0m, in \u001b[0;36mS3FileSystem._find\u001b[0;34m(self, path, maxdepth, withdirs, detail, prefix, **kwargs)\u001b[0m\n\u001b[1;32m    828\u001b[0m \u001b[38;5;28;01mif\u001b[39;00m maxdepth:\n\u001b[0;32m--> 829\u001b[0m     \u001b[38;5;28;01mreturn\u001b[39;00m \u001b[38;5;28;01mawait\u001b[39;00m \u001b[38;5;28msuper\u001b[39m()\u001b[38;5;241m.\u001b[39m_find(\n\u001b[1;32m    830\u001b[0m         bucket \u001b[38;5;241m+\u001b[39m \u001b[38;5;124m\"\u001b[39m\u001b[38;5;124m/\u001b[39m\u001b[38;5;124m\"\u001b[39m \u001b[38;5;241m+\u001b[39m key,\n\u001b[1;32m    831\u001b[0m         maxdepth\u001b[38;5;241m=\u001b[39mmaxdepth,\n\u001b[1;32m    832\u001b[0m         withdirs\u001b[38;5;241m=\u001b[39mwithdirs,\n\u001b[1;32m    833\u001b[0m         detail\u001b[38;5;241m=\u001b[39mdetail,\n\u001b[1;32m    834\u001b[0m         \u001b[38;5;241m*\u001b[39m\u001b[38;5;241m*\u001b[39mkwargs,\n\u001b[1;32m    835\u001b[0m     )\n\u001b[1;32m    836\u001b[0m \u001b[38;5;66;03m# TODO: implement find from dircache, if all listings are present\u001b[39;00m\n\u001b[1;32m    837\u001b[0m \u001b[38;5;66;03m# if refresh is False:\u001b[39;00m\n\u001b[1;32m    838\u001b[0m \u001b[38;5;66;03m#     out = incomplete_tree_dirs(self.dircache, path)\u001b[39;00m\n\u001b[0;32m   (...)\u001b[0m\n\u001b[1;32m    843\u001b[0m \u001b[38;5;66;03m#         return super().find(path)\u001b[39;00m\n\u001b[1;32m    844\u001b[0m \u001b[38;5;66;03m#     # else: we refresh anyway, having at least two missing trees\u001b[39;00m\n",
      "File \u001b[0;32m/opt/anaconda3/lib/python3.12/site-packages/fsspec/asyn.py:846\u001b[0m, in \u001b[0;36mAsyncFileSystem._find\u001b[0;34m(self, path, maxdepth, withdirs, **kwargs)\u001b[0m\n\u001b[1;32m    844\u001b[0m \u001b[38;5;66;03m# Add the root directory if withdirs is requested\u001b[39;00m\n\u001b[1;32m    845\u001b[0m \u001b[38;5;66;03m# This is needed for posix glob compliance\u001b[39;00m\n\u001b[0;32m--> 846\u001b[0m \u001b[38;5;28;01mif\u001b[39;00m withdirs \u001b[38;5;129;01mand\u001b[39;00m path \u001b[38;5;241m!=\u001b[39m \u001b[38;5;124m\"\u001b[39m\u001b[38;5;124m\"\u001b[39m \u001b[38;5;129;01mand\u001b[39;00m \u001b[38;5;28;01mawait\u001b[39;00m \u001b[38;5;28mself\u001b[39m\u001b[38;5;241m.\u001b[39m_isdir(path):\n\u001b[1;32m    847\u001b[0m     out[path] \u001b[38;5;241m=\u001b[39m \u001b[38;5;28;01mawait\u001b[39;00m \u001b[38;5;28mself\u001b[39m\u001b[38;5;241m.\u001b[39m_info(path)\n",
      "File \u001b[0;32m/opt/anaconda3/lib/python3.12/site-packages/s3fs/core.py:1480\u001b[0m, in \u001b[0;36mS3FileSystem._isdir\u001b[0;34m(self, path)\u001b[0m\n\u001b[1;32m   1479\u001b[0m \u001b[38;5;28;01mtry\u001b[39;00m:\n\u001b[0;32m-> 1480\u001b[0m     \u001b[38;5;28;01mreturn\u001b[39;00m \u001b[38;5;28mbool\u001b[39m(\u001b[38;5;28;01mawait\u001b[39;00m \u001b[38;5;28mself\u001b[39m\u001b[38;5;241m.\u001b[39m_lsdir(path))\n\u001b[1;32m   1481\u001b[0m \u001b[38;5;28;01mexcept\u001b[39;00m \u001b[38;5;167;01mFileNotFoundError\u001b[39;00m:\n",
      "File \u001b[0;32m/opt/anaconda3/lib/python3.12/site-packages/s3fs/core.py:720\u001b[0m, in \u001b[0;36mS3FileSystem._lsdir\u001b[0;34m(self, path, refresh, max_items, delimiter, prefix, versions)\u001b[0m\n\u001b[1;32m    719\u001b[0m files \u001b[38;5;241m=\u001b[39m []\n\u001b[0;32m--> 720\u001b[0m \u001b[38;5;28;01masync\u001b[39;00m \u001b[38;5;28;01mfor\u001b[39;00m c \u001b[38;5;129;01min\u001b[39;00m \u001b[38;5;28mself\u001b[39m\u001b[38;5;241m.\u001b[39m_iterdir(\n\u001b[1;32m    721\u001b[0m     bucket,\n\u001b[1;32m    722\u001b[0m     max_items\u001b[38;5;241m=\u001b[39mmax_items,\n\u001b[1;32m    723\u001b[0m     delimiter\u001b[38;5;241m=\u001b[39mdelimiter,\n\u001b[1;32m    724\u001b[0m     prefix\u001b[38;5;241m=\u001b[39mprefix,\n\u001b[1;32m    725\u001b[0m     versions\u001b[38;5;241m=\u001b[39mversions,\n\u001b[1;32m    726\u001b[0m ):\n\u001b[1;32m    727\u001b[0m     \u001b[38;5;28;01mif\u001b[39;00m c[\u001b[38;5;124m\"\u001b[39m\u001b[38;5;124mtype\u001b[39m\u001b[38;5;124m\"\u001b[39m] \u001b[38;5;241m==\u001b[39m \u001b[38;5;124m\"\u001b[39m\u001b[38;5;124mdirectory\u001b[39m\u001b[38;5;124m\"\u001b[39m:\n",
      "File \u001b[0;32m/opt/anaconda3/lib/python3.12/site-packages/s3fs/core.py:751\u001b[0m, in \u001b[0;36mS3FileSystem._iterdir\u001b[0;34m(self, bucket, max_items, delimiter, prefix, versions)\u001b[0m\n\u001b[1;32m    748\u001b[0m     \u001b[38;5;28;01mraise\u001b[39;00m \u001b[38;5;167;01mValueError\u001b[39;00m(\n\u001b[1;32m    749\u001b[0m         \u001b[38;5;124m\"\u001b[39m\u001b[38;5;124mversions cannot be specified if the filesystem is not version aware\u001b[39m\u001b[38;5;124m\"\u001b[39m\n\u001b[1;32m    750\u001b[0m     )\n\u001b[0;32m--> 751\u001b[0m \u001b[38;5;28;01mawait\u001b[39;00m \u001b[38;5;28mself\u001b[39m\u001b[38;5;241m.\u001b[39mset_session()\n\u001b[1;32m    752\u001b[0m s3 \u001b[38;5;241m=\u001b[39m \u001b[38;5;28;01mawait\u001b[39;00m \u001b[38;5;28mself\u001b[39m\u001b[38;5;241m.\u001b[39mget_s3(bucket)\n",
      "File \u001b[0;32m/opt/anaconda3/lib/python3.12/site-packages/s3fs/core.py:541\u001b[0m, in \u001b[0;36mS3FileSystem.set_session\u001b[0;34m(self, refresh, kwargs)\u001b[0m\n\u001b[1;32m    538\u001b[0m     s3creator \u001b[38;5;241m=\u001b[39m \u001b[38;5;28mself\u001b[39m\u001b[38;5;241m.\u001b[39msession\u001b[38;5;241m.\u001b[39mcreate_client(\n\u001b[1;32m    539\u001b[0m         \u001b[38;5;124m\"\u001b[39m\u001b[38;5;124ms3\u001b[39m\u001b[38;5;124m\"\u001b[39m, config\u001b[38;5;241m=\u001b[39mconf, \u001b[38;5;241m*\u001b[39m\u001b[38;5;241m*\u001b[39minit_kwargs, \u001b[38;5;241m*\u001b[39m\u001b[38;5;241m*\u001b[39mclient_kwargs\n\u001b[1;32m    540\u001b[0m     )\n\u001b[0;32m--> 541\u001b[0m     \u001b[38;5;28mself\u001b[39m\u001b[38;5;241m.\u001b[39m_s3 \u001b[38;5;241m=\u001b[39m \u001b[38;5;28;01mawait\u001b[39;00m s3creator\u001b[38;5;241m.\u001b[39m\u001b[38;5;21m__aenter__\u001b[39m()\n\u001b[1;32m    543\u001b[0m \u001b[38;5;28mself\u001b[39m\u001b[38;5;241m.\u001b[39m_s3creator \u001b[38;5;241m=\u001b[39m s3creator\n",
      "File \u001b[0;32m/opt/anaconda3/lib/python3.12/site-packages/aiobotocore/session.py:25\u001b[0m, in \u001b[0;36mClientCreatorContext.__aenter__\u001b[0;34m(self)\u001b[0m\n\u001b[1;32m     24\u001b[0m \u001b[38;5;28;01masync\u001b[39;00m \u001b[38;5;28;01mdef\u001b[39;00m \u001b[38;5;21m__aenter__\u001b[39m(\u001b[38;5;28mself\u001b[39m) \u001b[38;5;241m-\u001b[39m\u001b[38;5;241m>\u001b[39m AioBaseClient:\n\u001b[0;32m---> 25\u001b[0m     \u001b[38;5;28mself\u001b[39m\u001b[38;5;241m.\u001b[39m_client \u001b[38;5;241m=\u001b[39m \u001b[38;5;28;01mawait\u001b[39;00m \u001b[38;5;28mself\u001b[39m\u001b[38;5;241m.\u001b[39m_coro\n\u001b[1;32m     26\u001b[0m     \u001b[38;5;28;01mreturn\u001b[39;00m \u001b[38;5;28;01mawait\u001b[39;00m \u001b[38;5;28mself\u001b[39m\u001b[38;5;241m.\u001b[39m_client\u001b[38;5;241m.\u001b[39m\u001b[38;5;21m__aenter__\u001b[39m()\n",
      "File \u001b[0;32m/opt/anaconda3/lib/python3.12/site-packages/aiobotocore/session.py:215\u001b[0m, in \u001b[0;36mAioSession._create_client\u001b[0;34m(self, service_name, region_name, api_version, use_ssl, verify, endpoint_url, aws_access_key_id, aws_secret_access_key, aws_session_token, config)\u001b[0m\n\u001b[1;32m    203\u001b[0m client_creator \u001b[38;5;241m=\u001b[39m AioClientCreator(\n\u001b[1;32m    204\u001b[0m     loader,\n\u001b[1;32m    205\u001b[0m     endpoint_resolver,\n\u001b[0;32m   (...)\u001b[0m\n\u001b[1;32m    213\u001b[0m     user_agent_creator\u001b[38;5;241m=\u001b[39muser_agent_creator,\n\u001b[1;32m    214\u001b[0m )\n\u001b[0;32m--> 215\u001b[0m client \u001b[38;5;241m=\u001b[39m \u001b[38;5;28;01mawait\u001b[39;00m client_creator\u001b[38;5;241m.\u001b[39mcreate_client(\n\u001b[1;32m    216\u001b[0m     service_name\u001b[38;5;241m=\u001b[39mservice_name,\n\u001b[1;32m    217\u001b[0m     region_name\u001b[38;5;241m=\u001b[39mregion_name,\n\u001b[1;32m    218\u001b[0m     is_secure\u001b[38;5;241m=\u001b[39muse_ssl,\n\u001b[1;32m    219\u001b[0m     endpoint_url\u001b[38;5;241m=\u001b[39mendpoint_url,\n\u001b[1;32m    220\u001b[0m     verify\u001b[38;5;241m=\u001b[39mverify,\n\u001b[1;32m    221\u001b[0m     credentials\u001b[38;5;241m=\u001b[39mcredentials,\n\u001b[1;32m    222\u001b[0m     scoped_config\u001b[38;5;241m=\u001b[39m\u001b[38;5;28mself\u001b[39m\u001b[38;5;241m.\u001b[39mget_scoped_config(),\n\u001b[1;32m    223\u001b[0m     client_config\u001b[38;5;241m=\u001b[39mconfig,\n\u001b[1;32m    224\u001b[0m     api_version\u001b[38;5;241m=\u001b[39mapi_version,\n\u001b[1;32m    225\u001b[0m     auth_token\u001b[38;5;241m=\u001b[39mauth_token,\n\u001b[1;32m    226\u001b[0m )\n\u001b[1;32m    227\u001b[0m monitor \u001b[38;5;241m=\u001b[39m \u001b[38;5;28mself\u001b[39m\u001b[38;5;241m.\u001b[39m_get_internal_component(\u001b[38;5;124m'\u001b[39m\u001b[38;5;124mmonitor\u001b[39m\u001b[38;5;124m'\u001b[39m)\n",
      "File \u001b[0;32m/opt/anaconda3/lib/python3.12/site-packages/aiobotocore/client.py:77\u001b[0m, in \u001b[0;36mAioClientCreator.create_client\u001b[0;34m(self, service_name, region_name, is_secure, endpoint_url, verify, credentials, scoped_config, api_version, client_config, auth_token)\u001b[0m\n\u001b[1;32m     67\u001b[0m endpoint_bridge \u001b[38;5;241m=\u001b[39m ClientEndpointBridge(\n\u001b[1;32m     68\u001b[0m     \u001b[38;5;28mself\u001b[39m\u001b[38;5;241m.\u001b[39m_endpoint_resolver,\n\u001b[1;32m     69\u001b[0m     scoped_config,\n\u001b[0;32m   (...)\u001b[0m\n\u001b[1;32m     75\u001b[0m     ),\n\u001b[1;32m     76\u001b[0m )\n\u001b[0;32m---> 77\u001b[0m client_args \u001b[38;5;241m=\u001b[39m \u001b[38;5;28mself\u001b[39m\u001b[38;5;241m.\u001b[39m_get_client_args(\n\u001b[1;32m     78\u001b[0m     service_model,\n\u001b[1;32m     79\u001b[0m     region_name,\n\u001b[1;32m     80\u001b[0m     is_secure,\n\u001b[1;32m     81\u001b[0m     endpoint_url,\n\u001b[1;32m     82\u001b[0m     verify,\n\u001b[1;32m     83\u001b[0m     credentials,\n\u001b[1;32m     84\u001b[0m     scoped_config,\n\u001b[1;32m     85\u001b[0m     client_config,\n\u001b[1;32m     86\u001b[0m     endpoint_bridge,\n\u001b[1;32m     87\u001b[0m     auth_token,\n\u001b[1;32m     88\u001b[0m     endpoints_ruleset_data,\n\u001b[1;32m     89\u001b[0m     partition_data,\n\u001b[1;32m     90\u001b[0m )\n\u001b[1;32m     91\u001b[0m service_client \u001b[38;5;241m=\u001b[39m \u001b[38;5;28mcls\u001b[39m(\u001b[38;5;241m*\u001b[39m\u001b[38;5;241m*\u001b[39mclient_args)\n",
      "File \u001b[0;32m/opt/anaconda3/lib/python3.12/site-packages/aiobotocore/client.py:283\u001b[0m, in \u001b[0;36mAioClientCreator._get_client_args\u001b[0;34m(self, service_model, region_name, is_secure, endpoint_url, verify, credentials, scoped_config, client_config, endpoint_bridge, auth_token, endpoints_ruleset_data, partition_data)\u001b[0m\n\u001b[1;32m    274\u001b[0m args_creator \u001b[38;5;241m=\u001b[39m AioClientArgsCreator(\n\u001b[1;32m    275\u001b[0m     \u001b[38;5;28mself\u001b[39m\u001b[38;5;241m.\u001b[39m_event_emitter,\n\u001b[1;32m    276\u001b[0m     \u001b[38;5;28mself\u001b[39m\u001b[38;5;241m.\u001b[39m_user_agent,\n\u001b[0;32m   (...)\u001b[0m\n\u001b[1;32m    281\u001b[0m     user_agent_creator\u001b[38;5;241m=\u001b[39m\u001b[38;5;28mself\u001b[39m\u001b[38;5;241m.\u001b[39m_user_agent_creator,\n\u001b[1;32m    282\u001b[0m )\n\u001b[0;32m--> 283\u001b[0m \u001b[38;5;28;01mreturn\u001b[39;00m args_creator\u001b[38;5;241m.\u001b[39mget_client_args(\n\u001b[1;32m    284\u001b[0m     service_model,\n\u001b[1;32m    285\u001b[0m     region_name,\n\u001b[1;32m    286\u001b[0m     is_secure,\n\u001b[1;32m    287\u001b[0m     endpoint_url,\n\u001b[1;32m    288\u001b[0m     verify,\n\u001b[1;32m    289\u001b[0m     credentials,\n\u001b[1;32m    290\u001b[0m     scoped_config,\n\u001b[1;32m    291\u001b[0m     client_config,\n\u001b[1;32m    292\u001b[0m     endpoint_bridge,\n\u001b[1;32m    293\u001b[0m     auth_token,\n\u001b[1;32m    294\u001b[0m     endpoints_ruleset_data,\n\u001b[1;32m    295\u001b[0m     partition_data,\n\u001b[1;32m    296\u001b[0m )\n",
      "File \u001b[0;32m/opt/anaconda3/lib/python3.12/site-packages/aiobotocore/args.py:99\u001b[0m, in \u001b[0;36mAioClientArgsCreator.get_client_args\u001b[0;34m(self, service_model, region_name, is_secure, endpoint_url, verify, credentials, scoped_config, client_config, endpoint_bridge, auth_token, endpoints_ruleset_data, partition_data)\u001b[0m\n\u001b[1;32m     97\u001b[0m response_parser \u001b[38;5;241m=\u001b[39m botocore\u001b[38;5;241m.\u001b[39mparsers\u001b[38;5;241m.\u001b[39mcreate_parser(protocol)\n\u001b[0;32m---> 99\u001b[0m ruleset_resolver \u001b[38;5;241m=\u001b[39m \u001b[38;5;28mself\u001b[39m\u001b[38;5;241m.\u001b[39m_build_endpoint_resolver(\n\u001b[1;32m    100\u001b[0m     endpoints_ruleset_data,\n\u001b[1;32m    101\u001b[0m     partition_data,\n\u001b[1;32m    102\u001b[0m     client_config,\n\u001b[1;32m    103\u001b[0m     service_model,\n\u001b[1;32m    104\u001b[0m     endpoint_region_name,\n\u001b[1;32m    105\u001b[0m     region_name,\n\u001b[1;32m    106\u001b[0m     configured_endpoint_url,\n\u001b[1;32m    107\u001b[0m     endpoint,\n\u001b[1;32m    108\u001b[0m     is_secure,\n\u001b[1;32m    109\u001b[0m     endpoint_bridge,\n\u001b[1;32m    110\u001b[0m     event_emitter,\n\u001b[1;32m    111\u001b[0m )\n\u001b[1;32m    113\u001b[0m \u001b[38;5;66;03m# Copy the session's user agent factory and adds client configuration.\u001b[39;00m\n",
      "File \u001b[0;32m/opt/anaconda3/lib/python3.12/site-packages/aiobotocore/args.py:165\u001b[0m, in \u001b[0;36mAioClientArgsCreator._build_endpoint_resolver\u001b[0;34m(self, endpoints_ruleset_data, partition_data, client_config, service_model, endpoint_region_name, region_name, endpoint_url, endpoint, is_secure, endpoint_bridge, event_emitter)\u001b[0m\n\u001b[1;32m    164\u001b[0m     eprv2_region_name \u001b[38;5;241m=\u001b[39m region_name\n\u001b[0;32m--> 165\u001b[0m resolver_builtins \u001b[38;5;241m=\u001b[39m \u001b[38;5;28mself\u001b[39m\u001b[38;5;241m.\u001b[39mcompute_endpoint_resolver_builtin_defaults(\n\u001b[1;32m    166\u001b[0m     region_name\u001b[38;5;241m=\u001b[39meprv2_region_name,\n\u001b[1;32m    167\u001b[0m     service_name\u001b[38;5;241m=\u001b[39mservice_name_raw,\n\u001b[1;32m    168\u001b[0m     s3_config\u001b[38;5;241m=\u001b[39ms3_config_raw,\n\u001b[1;32m    169\u001b[0m     endpoint_bridge\u001b[38;5;241m=\u001b[39mendpoint_bridge,\n\u001b[1;32m    170\u001b[0m     client_endpoint_url\u001b[38;5;241m=\u001b[39mendpoint_url,\n\u001b[1;32m    171\u001b[0m     legacy_endpoint_url\u001b[38;5;241m=\u001b[39mendpoint\u001b[38;5;241m.\u001b[39mhost,\n\u001b[1;32m    172\u001b[0m )\n\u001b[1;32m    173\u001b[0m \u001b[38;5;66;03m# Client context params for s3 conflict with the available settings\u001b[39;00m\n\u001b[1;32m    174\u001b[0m \u001b[38;5;66;03m# in the `s3` parameter on the `Config` object. If the same parameter\u001b[39;00m\n\u001b[1;32m    175\u001b[0m \u001b[38;5;66;03m# is set in both places, the value in the `s3` parameter takes priority.\u001b[39;00m\n",
      "\u001b[0;31mTypeError\u001b[0m: ClientArgsCreator.compute_endpoint_resolver_builtin_defaults() missing 2 required positional arguments: 'credentials' and 'account_id_endpoint_mode'",
      "\nThe above exception was the direct cause of the following exception:\n",
      "\u001b[0;31mTypeError\u001b[0m                                 Traceback (most recent call last)",
      "File \u001b[0;32m/opt/anaconda3/lib/python3.12/site-packages/dask/backends.py:140\u001b[0m, in \u001b[0;36mCreationDispatch.register_inplace.<locals>.decorator.<locals>.wrapper\u001b[0;34m(*args, **kwargs)\u001b[0m\n\u001b[1;32m    139\u001b[0m \u001b[38;5;28;01mtry\u001b[39;00m:\n\u001b[0;32m--> 140\u001b[0m     \u001b[38;5;28;01mreturn\u001b[39;00m func(\u001b[38;5;241m*\u001b[39margs, \u001b[38;5;241m*\u001b[39m\u001b[38;5;241m*\u001b[39mkwargs)\n\u001b[1;32m    141\u001b[0m \u001b[38;5;28;01mexcept\u001b[39;00m \u001b[38;5;167;01mException\u001b[39;00m \u001b[38;5;28;01mas\u001b[39;00m e:\n",
      "File \u001b[0;32m/opt/anaconda3/lib/python3.12/site-packages/dask_expr/io/json.py:101\u001b[0m, in \u001b[0;36mread_json\u001b[0;34m(url_path, orient, lines, storage_options, blocksize, sample, encoding, errors, compression, meta, engine, include_path_column, path_converter, **kwargs)\u001b[0m\n\u001b[1;32m     99\u001b[0m \u001b[38;5;28;01mfrom\u001b[39;00m \u001b[38;5;21;01mdask\u001b[39;00m\u001b[38;5;21;01m.\u001b[39;00m\u001b[38;5;21;01mdataframe\u001b[39;00m\u001b[38;5;21;01m.\u001b[39;00m\u001b[38;5;21;01mio\u001b[39;00m\u001b[38;5;21;01m.\u001b[39;00m\u001b[38;5;21;01mjson\u001b[39;00m \u001b[38;5;28;01mimport\u001b[39;00m read_json\n\u001b[0;32m--> 101\u001b[0m df \u001b[38;5;241m=\u001b[39m read_json(\n\u001b[1;32m    102\u001b[0m     url_path,\n\u001b[1;32m    103\u001b[0m     orient\u001b[38;5;241m=\u001b[39morient,\n\u001b[1;32m    104\u001b[0m     lines\u001b[38;5;241m=\u001b[39mlines,\n\u001b[1;32m    105\u001b[0m     storage_options\u001b[38;5;241m=\u001b[39mstorage_options,\n\u001b[1;32m    106\u001b[0m     blocksize\u001b[38;5;241m=\u001b[39mblocksize,\n\u001b[1;32m    107\u001b[0m     sample\u001b[38;5;241m=\u001b[39msample,\n\u001b[1;32m    108\u001b[0m     encoding\u001b[38;5;241m=\u001b[39mencoding,\n\u001b[1;32m    109\u001b[0m     errors\u001b[38;5;241m=\u001b[39merrors,\n\u001b[1;32m    110\u001b[0m     compression\u001b[38;5;241m=\u001b[39mcompression,\n\u001b[1;32m    111\u001b[0m     meta\u001b[38;5;241m=\u001b[39mmeta,\n\u001b[1;32m    112\u001b[0m     engine\u001b[38;5;241m=\u001b[39mengine,\n\u001b[1;32m    113\u001b[0m     include_path_column\u001b[38;5;241m=\u001b[39minclude_path_column,\n\u001b[1;32m    114\u001b[0m     path_converter\u001b[38;5;241m=\u001b[39mpath_converter,\n\u001b[1;32m    115\u001b[0m     \u001b[38;5;241m*\u001b[39m\u001b[38;5;241m*\u001b[39mkwargs,\n\u001b[1;32m    116\u001b[0m )\n\u001b[1;32m    117\u001b[0m \u001b[38;5;28;01mreturn\u001b[39;00m from_legacy_dataframe(df)\n",
      "File \u001b[0;32m/opt/anaconda3/lib/python3.12/site-packages/dask/backends.py:142\u001b[0m, in \u001b[0;36mCreationDispatch.register_inplace.<locals>.decorator.<locals>.wrapper\u001b[0;34m(*args, **kwargs)\u001b[0m\n\u001b[1;32m    141\u001b[0m \u001b[38;5;28;01mexcept\u001b[39;00m \u001b[38;5;167;01mException\u001b[39;00m \u001b[38;5;28;01mas\u001b[39;00m e:\n\u001b[0;32m--> 142\u001b[0m     \u001b[38;5;28;01mraise\u001b[39;00m \u001b[38;5;28mtype\u001b[39m(e)(\n\u001b[1;32m    143\u001b[0m         \u001b[38;5;124mf\u001b[39m\u001b[38;5;124m\"\u001b[39m\u001b[38;5;124mAn error occurred while calling the \u001b[39m\u001b[38;5;132;01m{\u001b[39;00mfuncname(func)\u001b[38;5;132;01m}\u001b[39;00m\u001b[38;5;124m \u001b[39m\u001b[38;5;124m\"\u001b[39m\n\u001b[1;32m    144\u001b[0m         \u001b[38;5;124mf\u001b[39m\u001b[38;5;124m\"\u001b[39m\u001b[38;5;124mmethod registered to the \u001b[39m\u001b[38;5;132;01m{\u001b[39;00m\u001b[38;5;28mself\u001b[39m\u001b[38;5;241m.\u001b[39mbackend\u001b[38;5;132;01m}\u001b[39;00m\u001b[38;5;124m backend.\u001b[39m\u001b[38;5;130;01m\\n\u001b[39;00m\u001b[38;5;124m\"\u001b[39m\n\u001b[1;32m    145\u001b[0m         \u001b[38;5;124mf\u001b[39m\u001b[38;5;124m\"\u001b[39m\u001b[38;5;124mOriginal Message: \u001b[39m\u001b[38;5;132;01m{\u001b[39;00me\u001b[38;5;132;01m}\u001b[39;00m\u001b[38;5;124m\"\u001b[39m\n\u001b[1;32m    146\u001b[0m     ) \u001b[38;5;28;01mfrom\u001b[39;00m \u001b[38;5;21;01me\u001b[39;00m\n",
      "\u001b[0;31mTypeError\u001b[0m: An error occurred while calling the read_json method registered to the pandas backend.\nOriginal Message: ClientArgsCreator.compute_endpoint_resolver_builtin_defaults() missing 2 required positional arguments: 'credentials' and 'account_id_endpoint_mode'",
      "\nThe above exception was the direct cause of the following exception:\n",
      "\u001b[0;31mTypeError\u001b[0m                                 Traceback (most recent call last)",
      "Cell \u001b[0;32mIn[2], line 20\u001b[0m\n\u001b[1;32m     11\u001b[0m     df[\u001b[38;5;124m'\u001b[39m\u001b[38;5;124mcleaned_lyrics\u001b[39m\u001b[38;5;124m'\u001b[39m] \u001b[38;5;241m=\u001b[39m df[\u001b[38;5;124m'\u001b[39m\u001b[38;5;124mlyrics\u001b[39m\u001b[38;5;124m'\u001b[39m]\u001b[38;5;241m.\u001b[39mapply(\n\u001b[1;32m     12\u001b[0m         \u001b[38;5;28;01mlambda\u001b[39;00m text: \u001b[38;5;124m'\u001b[39m\u001b[38;5;124m \u001b[39m\u001b[38;5;124m'\u001b[39m\u001b[38;5;241m.\u001b[39mjoin(\n\u001b[1;32m     13\u001b[0m             word \u001b[38;5;28;01mfor\u001b[39;00m word \u001b[38;5;129;01min\u001b[39;00m re\u001b[38;5;241m.\u001b[39msub(\u001b[38;5;124mr\u001b[39m\u001b[38;5;124m'\u001b[39m\u001b[38;5;124m[^a-zA-Z\u001b[39m\u001b[38;5;124m\\\u001b[39m\u001b[38;5;124ms]\u001b[39m\u001b[38;5;124m'\u001b[39m, \u001b[38;5;124m'\u001b[39m\u001b[38;5;124m'\u001b[39m, text\u001b[38;5;241m.\u001b[39mlower())\u001b[38;5;241m.\u001b[39msplit()\n\u001b[0;32m   (...)\u001b[0m\n\u001b[1;32m     16\u001b[0m         meta\u001b[38;5;241m=\u001b[39m(\u001b[38;5;124m'\u001b[39m\u001b[38;5;124mlyrics\u001b[39m\u001b[38;5;124m'\u001b[39m, \u001b[38;5;124m'\u001b[39m\u001b[38;5;124mstr\u001b[39m\u001b[38;5;124m'\u001b[39m)\n\u001b[1;32m     17\u001b[0m     )\n\u001b[1;32m     18\u001b[0m     \u001b[38;5;28;01mreturn\u001b[39;00m df\n\u001b[0;32m---> 20\u001b[0m lyrics_df \u001b[38;5;241m=\u001b[39m dd\u001b[38;5;241m.\u001b[39mread_json(\u001b[38;5;124m'\u001b[39m\u001b[38;5;124ms3://genius-bucket-654654514107/lyrics/*.json\u001b[39m\u001b[38;5;124m'\u001b[39m)\n\u001b[1;32m     21\u001b[0m cleaned_df \u001b[38;5;241m=\u001b[39m clean_lyrics(lyrics_df)\n",
      "File \u001b[0;32m/opt/anaconda3/lib/python3.12/site-packages/dask/backends.py:142\u001b[0m, in \u001b[0;36mCreationDispatch.register_inplace.<locals>.decorator.<locals>.wrapper\u001b[0;34m(*args, **kwargs)\u001b[0m\n\u001b[1;32m    140\u001b[0m     \u001b[38;5;28;01mreturn\u001b[39;00m func(\u001b[38;5;241m*\u001b[39margs, \u001b[38;5;241m*\u001b[39m\u001b[38;5;241m*\u001b[39mkwargs)\n\u001b[1;32m    141\u001b[0m \u001b[38;5;28;01mexcept\u001b[39;00m \u001b[38;5;167;01mException\u001b[39;00m \u001b[38;5;28;01mas\u001b[39;00m e:\n\u001b[0;32m--> 142\u001b[0m     \u001b[38;5;28;01mraise\u001b[39;00m \u001b[38;5;28mtype\u001b[39m(e)(\n\u001b[1;32m    143\u001b[0m         \u001b[38;5;124mf\u001b[39m\u001b[38;5;124m\"\u001b[39m\u001b[38;5;124mAn error occurred while calling the \u001b[39m\u001b[38;5;132;01m{\u001b[39;00mfuncname(func)\u001b[38;5;132;01m}\u001b[39;00m\u001b[38;5;124m \u001b[39m\u001b[38;5;124m\"\u001b[39m\n\u001b[1;32m    144\u001b[0m         \u001b[38;5;124mf\u001b[39m\u001b[38;5;124m\"\u001b[39m\u001b[38;5;124mmethod registered to the \u001b[39m\u001b[38;5;132;01m{\u001b[39;00m\u001b[38;5;28mself\u001b[39m\u001b[38;5;241m.\u001b[39mbackend\u001b[38;5;132;01m}\u001b[39;00m\u001b[38;5;124m backend.\u001b[39m\u001b[38;5;130;01m\\n\u001b[39;00m\u001b[38;5;124m\"\u001b[39m\n\u001b[1;32m    145\u001b[0m         \u001b[38;5;124mf\u001b[39m\u001b[38;5;124m\"\u001b[39m\u001b[38;5;124mOriginal Message: \u001b[39m\u001b[38;5;132;01m{\u001b[39;00me\u001b[38;5;132;01m}\u001b[39;00m\u001b[38;5;124m\"\u001b[39m\n\u001b[1;32m    146\u001b[0m     ) \u001b[38;5;28;01mfrom\u001b[39;00m \u001b[38;5;21;01me\u001b[39;00m\n",
      "\u001b[0;31mTypeError\u001b[0m: An error occurred while calling the read_json method registered to the pandas backend.\nOriginal Message: An error occurred while calling the read_json method registered to the pandas backend.\nOriginal Message: ClientArgsCreator.compute_endpoint_resolver_builtin_defaults() missing 2 required positional arguments: 'credentials' and 'account_id_endpoint_mode'"
     ]
    }
   ],
   "source": [
    "import dask.dataframe as dd\n",
    "import pandas as pd\n",
    "import boto3\n",
    "import json\n",
    "import re\n",
    "from nltk.corpus import stopwords\n",
    "\n",
    "stop_words = set(stopwords.words('english'))\n",
    "\n",
    "def clean_lyrics(df):\n",
    "    df['cleaned_lyrics'] = df['lyrics'].apply(\n",
    "        lambda text: ' '.join(\n",
    "            word for word in re.sub(r'[^a-zA-Z\\s]', '', text.lower()).split()\n",
    "            if word not in stop_words\n",
    "        ),\n",
    "        meta=('lyrics', 'str')\n",
    "    )\n",
    "    return df\n",
    "\n",
    "lyrics_df = dd.read_json('s3://genius-bucket-654654514107/lyrics/*.json')\n",
    "cleaned_df = clean_lyrics(lyrics_df)\n"
   ]
  },
  {
   "cell_type": "code",
   "execution_count": null,
   "metadata": {},
   "outputs": [],
   "source": [
    "metadata_df = dd.read_csv(\"final_joined_table.csv\")\n",
    "joined = cleaned_df.merge(metadata_df, on=['title', 'artist'], how='inner')\n"
   ]
  },
  {
   "cell_type": "code",
   "execution_count": null,
   "metadata": {},
   "outputs": [],
   "source": []
  }
 ],
 "metadata": {
  "kernelspec": {
   "display_name": "base",
   "language": "python",
   "name": "python3"
  },
  "language_info": {
   "codemirror_mode": {
    "name": "ipython",
    "version": 3
   },
   "file_extension": ".py",
   "mimetype": "text/x-python",
   "name": "python",
   "nbconvert_exporter": "python",
   "pygments_lexer": "ipython3",
   "version": "3.12.4"
  }
 },
 "nbformat": 4,
 "nbformat_minor": 2
}
